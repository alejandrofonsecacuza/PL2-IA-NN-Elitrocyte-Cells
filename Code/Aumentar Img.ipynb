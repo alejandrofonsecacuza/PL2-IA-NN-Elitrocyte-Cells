{
 "cells": [
  {
   "cell_type": "code",
   "execution_count": 44,
   "metadata": {},
   "outputs": [
    {
     "data": {
      "text/plain": [
       "2"
      ]
     },
     "execution_count": 44,
     "metadata": {},
     "output_type": "execute_result"
    }
   ],
   "source": [
    "import cv2\n",
    "import numpy as np\n",
    "import os\n",
    "import matplotlib.pyplot as plt\n",
    "\n",
    "\n",
    "def Transoformaciones(type):\n",
    "    angles=[]\n",
    "    rotaciones=[0,1,-1]\n",
    "    transformed_images=[]\n",
    "    \n",
    "    path=os.getcwd()+f'/individual cells/{type}'\n",
    "    for i in os.listdir(path):\n",
    "        full_path=os.path.join(path,i)\n",
    "        if full_path.endswith(\".jpg\") or full_path.endswith(\".png\"):\n",
    "            img=cv2.imread(full_path)\n",
    "            for rota in rotaciones:\n",
    "                transformed_img=cv2.flip(img,rota)\n",
    "                transformed_images.append(transformed_img)\n",
    "            path_save=os.getcwd()+'/Imagenes Aumentadas/Circulares/copia.jpg'\n",
    "\n",
    "            index=0;\n",
    "            for i, transformed_img in enumerate(transformed_images):\n",
    "                #cv2.imshow('Transofrmed image {}'.format(i+1),transformed_img)\n",
    "                transformed_img=cv2.cvtColor(transformed_img,cv2.COLOR_BGR2RGB)\n",
    "                transformed_img=cv2.cvtColor(transformed_img,cv2.COLOR_RGB2BGR)\n",
    "                cv2.imwrite(os.getcwd()+f'/Imagenes Aumentadas/{type}/{index}.jpg',transformed_img)\n",
    "                \n",
    "                \n",
    "                index+=1;\n",
    "            \n",
    "    return transformed_images;\n",
    "for i in ['circular','elongated','other']:\n",
    "    Transoformaciones(i)\n",
    "2"
   ]
  },
  {
   "cell_type": "code",
   "execution_count": 43,
   "metadata": {},
   "outputs": [],
   "source": [
    "cv2.waitKey(0)\n",
    "cv2.destroyAllWindows()"
   ]
  },
  {
   "cell_type": "code",
   "execution_count": null,
   "metadata": {},
   "outputs": [],
   "source": []
  },
  {
   "cell_type": "code",
   "execution_count": null,
   "metadata": {},
   "outputs": [],
   "source": []
  },
  {
   "cell_type": "code",
   "execution_count": null,
   "metadata": {},
   "outputs": [],
   "source": []
  }
 ],
 "metadata": {
  "kernelspec": {
   "display_name": "Python 3",
   "language": "python",
   "name": "python3"
  },
  "language_info": {
   "codemirror_mode": {
    "name": "ipython",
    "version": 3
   },
   "file_extension": ".py",
   "mimetype": "text/x-python",
   "name": "python",
   "nbconvert_exporter": "python",
   "pygments_lexer": "ipython3",
   "version": "3.7.6"
  }
 },
 "nbformat": 4,
 "nbformat_minor": 4
}
